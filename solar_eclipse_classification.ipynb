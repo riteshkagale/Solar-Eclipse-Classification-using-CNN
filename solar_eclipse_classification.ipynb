{
  "nbformat": 4,
  "nbformat_minor": 0,
  "metadata": {
    "colab": {
      "name": "solar eclipse classification.ipynb",
      "provenance": [],
      "collapsed_sections": []
    },
    "kernelspec": {
      "name": "python3",
      "display_name": "Python 3"
    }
  },
  "cells": [
    {
      "cell_type": "markdown",
      "metadata": {
        "id": "ObApPdBLT3Zw"
      },
      "source": [
        "### importing the libraries"
      ]
    },
    {
      "cell_type": "code",
      "metadata": {
        "id": "kxbdklewTf3Q"
      },
      "source": [
        "import tensorflow as tf\n",
        "from keras.preprocessing.image import ImageDataGenerator"
      ],
      "execution_count": 1,
      "outputs": []
    },
    {
      "cell_type": "markdown",
      "metadata": {
        "id": "meHIYVeGUk65"
      },
      "source": [
        "### Processing the training set"
      ]
    },
    {
      "cell_type": "code",
      "metadata": {
        "id": "fZkRB-YIUo7G",
        "outputId": "4ddba2fe-5ed6-46e3-880e-028718e22d62",
        "colab": {
          "base_uri": "https://localhost:8080/"
        }
      },
      "source": [
        "train_datagen = ImageDataGenerator(rescale = 1./255,\n",
        "                                   shear_range = 0.2,\n",
        "                                   zoom_range = 0.2,\n",
        "                                   horizontal_flip = True)\n",
        "\n",
        "training_set = train_datagen.flow_from_directory('/content/drive/My Drive/Colab Notebooks/solarEclipseClassification/dataset/Train',\n",
        "                                                 target_size = (64, 64),\n",
        "                                                 batch_size = 32,\n",
        "                                                 class_mode = 'categorical')"
      ],
      "execution_count": 2,
      "outputs": [
        {
          "output_type": "stream",
          "text": [
            "Found 2214 images belonging to 3 classes.\n"
          ],
          "name": "stdout"
        }
      ]
    },
    {
      "cell_type": "markdown",
      "metadata": {
        "id": "TA-rIpfhUuD2"
      },
      "source": [
        "### Processing the test set"
      ]
    },
    {
      "cell_type": "code",
      "metadata": {
        "id": "barc6eHcUwVx",
        "outputId": "cd54fc0b-d272-4209-e467-709e4000d0bf",
        "colab": {
          "base_uri": "https://localhost:8080/"
        }
      },
      "source": [
        "test_datagen = ImageDataGenerator(rescale = 1./255)\n",
        "\n",
        "test_set = test_datagen.flow_from_directory('/content/drive/My Drive/Colab Notebooks/solarEclipseClassification/dataset/Test',\n",
        "                                            target_size = (64, 64),\n",
        "                                            batch_size = 32,\n",
        "                                            class_mode = 'categorical')"
      ],
      "execution_count": 3,
      "outputs": [
        {
          "output_type": "stream",
          "text": [
            "Found 632 images belonging to 3 classes.\n"
          ],
          "name": "stdout"
        }
      ]
    },
    {
      "cell_type": "code",
      "metadata": {
        "id": "kg7_2Wul-Zot",
        "outputId": "41606d36-9465-4416-9405-3de6f66cbfc6",
        "colab": {
          "base_uri": "https://localhost:8080/"
        }
      },
      "source": [
        "training_set.class_indices"
      ],
      "execution_count": 4,
      "outputs": [
        {
          "output_type": "execute_result",
          "data": {
            "text/plain": [
              "{'Annular_solar_eclipse': 0,\n",
              " 'Partial_solar_eclipse': 1,\n",
              " 'Total_solar_eclipse': 2}"
            ]
          },
          "metadata": {
            "tags": []
          },
          "execution_count": 4
        }
      ]
    },
    {
      "cell_type": "markdown",
      "metadata": {
        "id": "SDiyg1CS-g39"
      },
      "source": [
        "### Build the CNN"
      ]
    },
    {
      "cell_type": "code",
      "metadata": {
        "id": "00_xQNPf-dEA"
      },
      "source": [
        "cnn = tf.keras.models.Sequential()\n",
        "\n",
        "cnn.add(tf.keras.layers.Conv2D(filters=32, kernel_size=3, activation='relu', input_shape=[64, 64, 3]))\n",
        "cnn.add(tf.keras.layers.MaxPool2D(pool_size=2))\n",
        "\n",
        "cnn.add(tf.keras.layers.Conv2D(filters=32, kernel_size=3, activation='relu'))\n",
        "cnn.add(tf.keras.layers.MaxPool2D(pool_size=2))\n",
        "\n",
        "cnn.add(tf.keras.layers.Conv2D(filters=32, kernel_size=3, activation='relu'))\n",
        "cnn.add(tf.keras.layers.MaxPool2D(pool_size=2))\n",
        "\n",
        "cnn.add(tf.keras.layers.Flatten())\n",
        "\n",
        "cnn.add(tf.keras.layers.Dense(units=512, activation='relu'))\n",
        "cnn.add(tf.keras.layers.Dropout(0.5))\n",
        "\n",
        "cnn.add(tf.keras.layers.Dense(units=128, activation='relu'))\n",
        "cnn.add(tf.keras.layers.Dropout(0.25))\n",
        "\n",
        "cnn.add(tf.keras.layers.Dense(units=3, activation='softmax'))"
      ],
      "execution_count": 5,
      "outputs": []
    },
    {
      "cell_type": "markdown",
      "metadata": {
        "id": "5SowZHAwAn34"
      },
      "source": [
        "### Training the CNN"
      ]
    },
    {
      "cell_type": "code",
      "metadata": {
        "id": "55Z4iVcVAMH-",
        "outputId": "780711cb-4cd8-45cb-926e-3f0b2840be88",
        "colab": {
          "base_uri": "https://localhost:8080/"
        }
      },
      "source": [
        "cnn.compile(optimizer='adam', loss='categorical_crossentropy', metrics=['accuracy'])\n",
        "cnn.summary()"
      ],
      "execution_count": 6,
      "outputs": [
        {
          "output_type": "stream",
          "text": [
            "Model: \"sequential\"\n",
            "_________________________________________________________________\n",
            "Layer (type)                 Output Shape              Param #   \n",
            "=================================================================\n",
            "conv2d (Conv2D)              (None, 62, 62, 32)        896       \n",
            "_________________________________________________________________\n",
            "max_pooling2d (MaxPooling2D) (None, 31, 31, 32)        0         \n",
            "_________________________________________________________________\n",
            "conv2d_1 (Conv2D)            (None, 29, 29, 32)        9248      \n",
            "_________________________________________________________________\n",
            "max_pooling2d_1 (MaxPooling2 (None, 14, 14, 32)        0         \n",
            "_________________________________________________________________\n",
            "conv2d_2 (Conv2D)            (None, 12, 12, 32)        9248      \n",
            "_________________________________________________________________\n",
            "max_pooling2d_2 (MaxPooling2 (None, 6, 6, 32)          0         \n",
            "_________________________________________________________________\n",
            "flatten (Flatten)            (None, 1152)              0         \n",
            "_________________________________________________________________\n",
            "dense (Dense)                (None, 512)               590336    \n",
            "_________________________________________________________________\n",
            "dropout (Dropout)            (None, 512)               0         \n",
            "_________________________________________________________________\n",
            "dense_1 (Dense)              (None, 128)               65664     \n",
            "_________________________________________________________________\n",
            "dropout_1 (Dropout)          (None, 128)               0         \n",
            "_________________________________________________________________\n",
            "dense_2 (Dense)              (None, 3)                 387       \n",
            "=================================================================\n",
            "Total params: 675,779\n",
            "Trainable params: 675,779\n",
            "Non-trainable params: 0\n",
            "_________________________________________________________________\n"
          ],
          "name": "stdout"
        }
      ]
    },
    {
      "cell_type": "markdown",
      "metadata": {
        "id": "LpLMtYXyBDIb"
      },
      "source": [
        "#### Training the CNN on the training set and evaluating it on test set"
      ]
    },
    {
      "cell_type": "code",
      "metadata": {
        "id": "ir0RMWiCA9pN",
        "outputId": "69668254-7e20-4cb3-d442-304ffb50ad0a",
        "colab": {
          "base_uri": "https://localhost:8080/"
        }
      },
      "source": [
        "fitted_model = cnn.fit(x=training_set, validation_data=test_set, epochs=25)"
      ],
      "execution_count": 7,
      "outputs": [
        {
          "output_type": "stream",
          "text": [
            "Epoch 1/25\n",
            "70/70 [==============================] - 17s 247ms/step - loss: 0.9668 - accuracy: 0.5005 - val_loss: 0.6508 - val_accuracy: 0.6930\n",
            "Epoch 2/25\n",
            "70/70 [==============================] - 17s 242ms/step - loss: 0.5032 - accuracy: 0.7990 - val_loss: 0.3857 - val_accuracy: 0.8497\n",
            "Epoch 3/25\n",
            "70/70 [==============================] - 17s 242ms/step - loss: 0.3285 - accuracy: 0.8790 - val_loss: 0.1851 - val_accuracy: 0.9335\n",
            "Epoch 4/25\n",
            "70/70 [==============================] - 17s 242ms/step - loss: 0.1619 - accuracy: 0.9413 - val_loss: 0.1529 - val_accuracy: 0.9430\n",
            "Epoch 5/25\n",
            "70/70 [==============================] - 17s 242ms/step - loss: 0.1237 - accuracy: 0.9584 - val_loss: 0.2818 - val_accuracy: 0.9114\n",
            "Epoch 6/25\n",
            "70/70 [==============================] - 17s 242ms/step - loss: 0.1498 - accuracy: 0.9395 - val_loss: 0.2254 - val_accuracy: 0.9304\n",
            "Epoch 7/25\n",
            "70/70 [==============================] - 17s 247ms/step - loss: 0.0763 - accuracy: 0.9756 - val_loss: 0.0502 - val_accuracy: 0.9905\n",
            "Epoch 8/25\n",
            "70/70 [==============================] - 17s 241ms/step - loss: 0.0709 - accuracy: 0.9743 - val_loss: 0.0372 - val_accuracy: 0.9905\n",
            "Epoch 9/25\n",
            "70/70 [==============================] - 17s 243ms/step - loss: 0.0351 - accuracy: 0.9887 - val_loss: 0.0328 - val_accuracy: 0.9873\n",
            "Epoch 10/25\n",
            "70/70 [==============================] - 17s 243ms/step - loss: 0.0432 - accuracy: 0.9855 - val_loss: 0.0123 - val_accuracy: 0.9968\n",
            "Epoch 11/25\n",
            "70/70 [==============================] - 17s 242ms/step - loss: 0.0469 - accuracy: 0.9851 - val_loss: 0.0433 - val_accuracy: 0.9873\n",
            "Epoch 12/25\n",
            "70/70 [==============================] - 17s 244ms/step - loss: 0.0674 - accuracy: 0.9783 - val_loss: 0.0470 - val_accuracy: 0.9873\n",
            "Epoch 13/25\n",
            "70/70 [==============================] - 17s 244ms/step - loss: 0.0378 - accuracy: 0.9883 - val_loss: 0.0941 - val_accuracy: 0.9604\n",
            "Epoch 14/25\n",
            "70/70 [==============================] - 17s 243ms/step - loss: 0.0418 - accuracy: 0.9864 - val_loss: 0.0234 - val_accuracy: 0.9921\n",
            "Epoch 15/25\n",
            "70/70 [==============================] - 17s 246ms/step - loss: 0.0216 - accuracy: 0.9919 - val_loss: 0.0124 - val_accuracy: 0.9968\n",
            "Epoch 16/25\n",
            "70/70 [==============================] - 17s 243ms/step - loss: 0.0298 - accuracy: 0.9901 - val_loss: 0.0037 - val_accuracy: 1.0000\n",
            "Epoch 17/25\n",
            "70/70 [==============================] - 17s 247ms/step - loss: 0.0217 - accuracy: 0.9928 - val_loss: 0.0540 - val_accuracy: 0.9842\n",
            "Epoch 18/25\n",
            "70/70 [==============================] - 17s 243ms/step - loss: 0.0198 - accuracy: 0.9941 - val_loss: 0.1766 - val_accuracy: 0.9557\n",
            "Epoch 19/25\n",
            "70/70 [==============================] - 17s 244ms/step - loss: 0.1231 - accuracy: 0.9584 - val_loss: 0.0689 - val_accuracy: 0.9763\n",
            "Epoch 20/25\n",
            "70/70 [==============================] - 17s 244ms/step - loss: 0.0280 - accuracy: 0.9914 - val_loss: 0.0166 - val_accuracy: 0.9968\n",
            "Epoch 21/25\n",
            "70/70 [==============================] - 17s 243ms/step - loss: 0.0170 - accuracy: 0.9946 - val_loss: 0.0085 - val_accuracy: 0.9953\n",
            "Epoch 22/25\n",
            "70/70 [==============================] - 17s 241ms/step - loss: 0.0123 - accuracy: 0.9959 - val_loss: 0.0084 - val_accuracy: 0.9968\n",
            "Epoch 23/25\n",
            "70/70 [==============================] - 17s 242ms/step - loss: 0.0125 - accuracy: 0.9968 - val_loss: 0.0165 - val_accuracy: 0.9968\n",
            "Epoch 24/25\n",
            "70/70 [==============================] - 17s 242ms/step - loss: 0.0145 - accuracy: 0.9950 - val_loss: 0.0026 - val_accuracy: 1.0000\n",
            "Epoch 25/25\n",
            "70/70 [==============================] - 17s 249ms/step - loss: 0.0075 - accuracy: 0.9977 - val_loss: 0.0131 - val_accuracy: 0.9968\n"
          ],
          "name": "stdout"
        }
      ]
    },
    {
      "cell_type": "code",
      "metadata": {
        "id": "D4sg2mz8BjTa",
        "outputId": "91c3084f-674c-4225-ad0b-8771baac3933",
        "colab": {
          "base_uri": "https://localhost:8080/",
          "height": 282
        }
      },
      "source": [
        "import matplotlib.pyplot as plt\n",
        "# plotting accuracy and validation accuracy\n",
        "accuracy = fitted_model.history['accuracy']\n",
        "plt.plot(range(len(accuracy)), accuracy, 'bo', label = 'accuracy')\n",
        "\n",
        "plt.legend()"
      ],
      "execution_count": 8,
      "outputs": [
        {
          "output_type": "execute_result",
          "data": {
            "text/plain": [
              "<matplotlib.legend.Legend at 0x7f568dfd1390>"
            ]
          },
          "metadata": {
            "tags": []
          },
          "execution_count": 8
        },
        {
          "output_type": "display_data",
          "data": {
            "image/png": "[encoded data removed]",
            "text/plain": [
              "<Figure size 432x288 with 1 Axes>"
            ]
          },
          "metadata": {
            "tags": [],
            "needs_background": "light"
          }
        }
      ]
    },
    {
      "cell_type": "markdown",
      "metadata": {
        "id": "r7gxOwjuL9SJ"
      },
      "source": [
        "### Making a single prediction"
      ]
    },
    {
      "cell_type": "code",
      "metadata": {
        "id": "CF5OQM-7MB_o",
        "outputId": "7584d290-d70c-4683-e089-25bd714ffab1",
        "colab": {
          "base_uri": "https://localhost:8080/"
        }
      },
      "source": [
        "import numpy as np\n",
        "from keras.preprocessing import image\n",
        "test_image = image.load_img('/content/drive/My Drive/Colab Notebooks/solarEclipseClassification/dataset/samples/TSE_1.jpg', target_size = (64, 64))\n",
        "test_image = image.img_to_array(test_image)\n",
        "test_image = np.expand_dims(test_image, axis = 0)\n",
        "result = cnn.predict(test_image)\n",
        "print(result)\n",
        "training_set.class_indices"
      ],
      "execution_count": 9,
      "outputs": [
        {
          "output_type": "stream",
          "text": [
            "[[0. 0. 1.]]\n"
          ],
          "name": "stdout"
        },
        {
          "output_type": "execute_result",
          "data": {
            "text/plain": [
              "{'Annular_solar_eclipse': 0,\n",
              " 'Partial_solar_eclipse': 1,\n",
              " 'Total_solar_eclipse': 2}"
            ]
          },
          "metadata": {
            "tags": []
          },
          "execution_count": 9
        }
      ]
    }
  ]
}